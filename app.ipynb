{
 "cells": [
  {
   "cell_type": "code",
   "execution_count": 2,
   "source": [
    "import json\n",
    "import subprocess # to load powershell framework\n",
    "#p = subprocess.Popen([\"powershell\",\"#framework/utility/helloworl.ps1\"], stdout=subprocess.PIPE) \n",
    "# load framework (powershell) related objects\n",
    "p = subprocess.Popen([\"dir\",\"/\"], stdout=subprocess.PIPE) \n",
    "p_out, p_err = p.communicate()\n",
    "#print(p_out) # to access the result"
   ],
   "outputs": [],
   "metadata": {}
  },
  {
   "cell_type": "code",
   "execution_count": 3,
   "source": [
    "def load_test_movies():\n",
    "  with open('/home/vmuser/aicore/movie_assistant/movies-head.json', 'r') as f:\n",
    "    movies = json.load(f)\n",
    "    return movies\n",
    "\n",
    "def load_movies_data():\n",
    "  with open('/home/vmuser/aicore/movie_assistant/movies.json', 'r') as f:\n",
    "    movies = json.load(f)\n",
    "    return movies\n",
    "\n",
    "movies = load_movies_data()"
   ],
   "outputs": [],
   "metadata": {}
  },
  {
   "cell_type": "code",
   "execution_count": 4,
   "source": [
    "# Milestone 1: Understand the Data\n",
    "# ------------------------------------------------------------------------------------------------------------"
   ],
   "outputs": [],
   "metadata": {}
  },
  {
   "cell_type": "code",
   "execution_count": 7,
   "source": [
    "first_movie = movies[0]\n",
    "data_type = type(first_movie)\n",
    "# print out the solution\n",
    "solution = {'data_type':data_type,'first_movie': first_movie[\"title\"]}\n",
    "#print('data_type: {data_type}, fist_movie: {first_movie}'.format(**solution))"
   ],
   "outputs": [],
   "metadata": {}
  },
  {
   "cell_type": "code",
   "execution_count": 8,
   "source": [
    "last_10_chars_link = first_movie[\"link\"][-10:]"
   ],
   "outputs": [],
   "metadata": {}
  },
  {
   "cell_type": "code",
   "execution_count": 9,
   "source": [
    "# Milestone 2: Explore the Data\n",
    "# ------------------------------------------------------------------------------------------------------------"
   ],
   "outputs": [],
   "metadata": {}
  },
  {
   "cell_type": "code",
   "execution_count": 10,
   "source": [
    "#print(movies[0][\"title\"])\n",
    "titles = []\n",
    "\n",
    "def print_every_movie_title():\n",
    "    titles = []\n",
    "    for i in range(len(movies)):\n",
    "        titles.append(f\"{movies[i]['title']}\")\n",
    "    for index, item in enumerate(titles):\n",
    "      #return f\"Title {index+1} :\", f\"{item}\"\n",
    "      print(f\"Title {index+1} :\", f\"{item}\")\n",
    "\n",
    "      \n",
    "#print_every_movie_title()"
   ],
   "outputs": [],
   "metadata": {}
  },
  {
   "cell_type": "code",
   "execution_count": 11,
   "source": [
    "def get_movie_description_length(one_movie):\n",
    "  # iterate through the given movie to find the description \n",
    "  for key, value in one_movie.items():\n",
    "    match key:\n",
    "      case \"description\":\n",
    "        # when found convert count its legth and return it as integer \n",
    "        description = str(value) \n",
    "        formated = int(len(description))       \n",
    "        return formated"
   ],
   "outputs": [],
   "metadata": {}
  },
  {
   "cell_type": "code",
   "execution_count": 12,
   "source": [
    "def get_avg_movie_description_length():\n",
    "  \"\"\"\n",
    "  returns the average number of characters in each movie description, \n",
    "  averaged across the whole dataset.\n",
    "\n",
    "  Returns:\n",
    "      _int_: avarage description length acrross whole data set.\n",
    "  \"\"\"\n",
    "  import statistics as st #statistics package\n",
    "  movie_description_length = [] \n",
    "  # iteratate through movies dict\n",
    "  for i in range(len(movies)):\n",
    "    # add every description legth to the list\n",
    "    movie_description_length.append(get_movie_description_length(movies[i]))\n",
    "    # calculate the avg of all description lengths\n",
    "  avg = st.mean(movie_description_length)\n",
    "  return (round(avg,1))"
   ],
   "outputs": [],
   "metadata": {}
  },
  {
   "cell_type": "code",
   "execution_count": 13,
   "source": [
    "def get_max_movie_name_length():\n",
    "    all_movie_title_length = []\n",
    "    # iteratate through movies dict and gather dataset\n",
    "    for i in range(len(movies)):\n",
    "      single_movie = movies[i]\n",
    "      for key, value in single_movie.items():\n",
    "        movie_index = i+1\n",
    "        single_movie_items = key\n",
    "        single_movie_content = value\n",
    "        length = len(str(single_movie_content))\n",
    "        # write dataset to a new dictionary\n",
    "        retrieved_dataset = {\"Movies_Index\" : movie_index,\"Movies_Item\":single_movie_items, \"Item_Content\":single_movie_content, \"Item_Length\":int(length)}\n",
    "        # filter the new dictionary for \"Title\" items only\n",
    "        match key:\n",
    "          case \"title\":\n",
    "            # assemble filtered datasets and collect into a new dictionary\n",
    "            title_index = '{Movies_Index}'.format(**retrieved_dataset)\n",
    "            title_name = '{Item_Content}'.format(**retrieved_dataset)\n",
    "            title_length = '{Item_Length}'.format(**retrieved_dataset)\n",
    "            filtered_dataset={\"Title_Index\" : title_index,\"Movie_Title\":title_name, \"Title_Length\":int(title_length)}\n",
    "            # Loop through the filtered dataset generate a list containing all lengths   \n",
    "            all_movie_title_length.append(filtered_dataset.get(\"Title_Length\"))\n",
    "            max_length = max(all_movie_title_length)\n",
    "            # if its the longest movie save into the result dictionay\n",
    "            if length == max_length:\n",
    "              longest_name=filtered_dataset.get(\"Movie_Title\")\n",
    "              longest_length=filtered_dataset.get(\"Title_Length\")\n",
    "              #print(longest_length)\n",
    "              longest_movie={\"Max_Name\" : longest_name, \"Max_Length: \" : int(longest_length)}\n",
    "              \n",
    "              return longest_length,longest_name\n",
    "              #print('{Max_Length}'.format(**longest_movie))\n",
    "              #print('{Max_Name}'.format(**longest_movie))"
   ],
   "outputs": [],
   "metadata": {}
  },
  {
   "cell_type": "code",
   "execution_count": 15,
   "source": [
    "# Milestone 3:\n",
    "# ------------------------------------------------------------------------------------------"
   ],
   "outputs": [],
   "metadata": {}
  },
  {
   "cell_type": "code",
   "execution_count": 16,
   "source": [
    "def get_unique_genres():\n",
    "    all_genre = []\n",
    "    # iteratate through movies dict to access single movies\n",
    "    for i in range(len(movies)):\n",
    "      single_movie = movies[i]\n",
    "      # going through a single movie to collect the genres \n",
    "      for key, value in single_movie.items():\n",
    "        match key:\n",
    "          case \"genre\":\n",
    "            all_genre.append(value)\n",
    "            unique_genres = set(all_genre)\n",
    "            \n",
    "    return unique_genres"
   ],
   "outputs": [],
   "metadata": {}
  },
  {
   "cell_type": "code",
   "execution_count": 17,
   "source": [
    "def get_movies_in_genre(arg1):\n",
    "  # check the input is a string\n",
    "  genre = str(arg1)\n",
    "  for movie in movies:\n",
    "    # filter movie for their genre\n",
    "    filtered_movies = filter(lambda movie : genre in movie[\"genre\"], movies)\n",
    "    return list(filtered_movies)   \n",
    "\n",
    "#get_movies_in_genre(\"Action\")"
   ],
   "outputs": [],
   "metadata": {}
  },
  {
   "cell_type": "code",
   "execution_count": 18,
   "source": [
    "# Milestone 4:\n",
    "# -----------------------------------------------------------------------------------------\n",
    "#"
   ],
   "outputs": [],
   "metadata": {}
  },
  {
   "cell_type": "code",
   "execution_count": 19,
   "source": [
    "'''\n",
    "def get_user_genre_choice():\n",
    "  print(\"Select a genre from the following set:\")\n",
    "  print(get_unique_genres())\n",
    "  genre_choice = input(\"Type a genre then hit enter... \\n\")\n",
    "  return genre_choice\n",
    "#get_user_genre_choice()\n",
    "'''"
   ],
   "outputs": [
    {
     "output_type": "execute_result",
     "data": {
      "text/plain": [
       "'\\ndef get_user_genre_choice():\\n  print(\"Select a genre from the following set:\")\\n  print(get_unique_genres())\\n  genre_choice = input(\"Type a genre then hit enter... \\n\")\\n  return genre_choice\\n#get_user_genre_choice()\\n'"
      ]
     },
     "metadata": {},
     "execution_count": 19
    }
   ],
   "metadata": {}
  },
  {
   "cell_type": "code",
   "execution_count": 20,
   "source": [
    "def get_movie_by_index():\n",
    "  genre_movies = show_selected_genre_titles()\n",
    "  print(\"Please select a movie tile from the list.\")\n",
    "  movie_choice = input()\n",
    "  print(int(movie_choice))\n",
    "  return genre_choice"
   ],
   "outputs": [],
   "metadata": {}
  },
  {
   "cell_type": "code",
   "execution_count": 21,
   "source": [
    "def get_movie_by_index():\n",
    "  genre_movies = show_selected_genre_titles()\n",
    "  print(\"Please select a movie tile from the list.\")\n",
    "  movie_choice = input()\n",
    "  print(int(movie_choice))\n",
    "  return genre_choice"
   ],
   "outputs": [],
   "metadata": {}
  },
  {
   "cell_type": "code",
   "execution_count": 22,
   "source": [
    "def get_movie_by_index():\n",
    "  genre_movies = show_selected_genre_titles()\n",
    "  print(\"\")\n",
    "  selected_movie_index = input(\"Type the movie number and hit enter...\\n\")\n",
    "  selected_movie_index = int(selected_movie_index)\n",
    "  for key, value in genre_movies[selected_movie_index-1].items():\n",
    "    print('{}: {}'.format(key,value))"
   ],
   "outputs": [],
   "metadata": {}
  },
  {
   "cell_type": "code",
   "execution_count": 24,
   "source": [
    "# Milestone 5: Error Handling\n",
    "# ---------------------------------------------------------------------------------------\n",
    "#"
   ],
   "outputs": [],
   "metadata": {}
  },
  {
   "cell_type": "code",
   "execution_count": 26,
   "source": [
    "def get_user_genre_choice():\n",
    "    genres = get_unique_genres()\n",
    "    print(\"Select a genre from the following set:\")\n",
    "    print(get_unique_genres())\n",
    "    try:  \n",
    "      genre_choice = input(\"Type a genre then hit enter...\\n\")\n",
    "      while genre_choice not in genres:           \n",
    "          raise ValueError        \n",
    "    except ValueError: # invalid input\n",
    "        print(f'{genre_choice} is not a valid genre.\\nPlease try again..')\n",
    "        genre_choice = input(\"Type a genre then hit enter...\\n\")\n",
    "    return genre_choice  # valid input\n",
    "  \n",
    "#get_user_genre_choice()"
   ],
   "outputs": [],
   "metadata": {}
  }
 ],
 "nbformat": 4,
 "nbformat_minor": 2,
 "metadata": {
  "language_info": {
   "codemirror_mode": {
    "name": "ipython",
    "version": 3
   },
   "file_extension": ".py",
   "mimetype": "text/x-python",
   "name": "python",
   "nbconvert_exporter": "python",
   "pygments_lexer": "ipython3",
   "version": 3
  }
 }
}
